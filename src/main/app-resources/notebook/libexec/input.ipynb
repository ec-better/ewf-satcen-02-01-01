{
 "cells": [
  {
   "cell_type": "markdown",
   "metadata": {
    "slideshow": {
     "slide_type": "skip"
    }
   },
   "source": [
    "## Sentinel-1 GRD Sigma0 change detection"
   ]
  },
  {
   "cell_type": "markdown",
   "metadata": {},
   "source": [
    "### Service Definition"
   ]
  },
  {
   "cell_type": "code",
   "execution_count": 1,
   "metadata": {
    "collapsed": true
   },
   "outputs": [],
   "source": [
    "service = dict([('title', 'Sentinel-1 GRD Sigma0 change detection'),\n",
    "                ('abstract', 'Sentinel-1 GRD Sigma0 change detection'),\n",
    "                ('id', 'ewf-s1-grd-change-detection-sigma0')])"
   ]
  },
  {
   "cell_type": "markdown",
   "metadata": {},
   "source": [
    "### Runtime parameter definition"
   ]
  },
  {
   "cell_type": "code",
   "execution_count": 2,
   "metadata": {},
   "outputs": [],
   "source": [
    "polarization = dict([('id', 'polarization'),\n",
    "                     ('title', 'Polarization'),\n",
    "                     ('abstract', 'Polarization'),\n",
    "                     ('value', 'VV')])"
   ]
  },
  {
   "cell_type": "code",
   "execution_count": 3,
   "metadata": {},
   "outputs": [],
   "source": [
    "aoi = dict([('id', 'aoi'),\n",
    "              ('title', 'Area of interest'),\n",
    "              ('abstract', 'Area of interest'),\n",
    "              ('value', '13.38, 13.85, 13.78, 14.25')])"
   ]
  },
  {
   "cell_type": "code",
   "execution_count": 4,
   "metadata": {},
   "outputs": [],
   "source": [
    "epsg_code = dict([('id', 'epsg'),\n",
    "                  ('title', 'EPSG code'),\n",
    "                  ('abstract', 'EPSG code (example: EPSG:32632)'),\n",
    "                  ('value', 'EPSG:32633')])"
   ]
  },
  {
   "cell_type": "code",
   "execution_count": 5,
   "metadata": {},
   "outputs": [],
   "source": [
    "resolution = dict([('id', 'resolution'),\n",
    "                  ('title', 'Resolution in meters (5.0 or 10.0)'),\n",
    "                  ('abstract', 'Resolution in meters (5.0 or 10.0)'),\n",
    "                  ('value', '10.0')])"
   ]
  },
  {
   "cell_type": "code",
   "execution_count": 6,
   "metadata": {},
   "outputs": [],
   "source": [
    "orbit_type = dict([('id', 'orbit_type'),\n",
    "                   ('title', 'Orbit type, Restituted or Precise'),\n",
    "                   ('abstract', 'Orbit type, Restituted or Precise'),\n",
    "                   ('value', 'Precise')])"
   ]
  },
  {
   "cell_type": "markdown",
   "metadata": {},
   "source": [
    "**Input identifiers**"
   ]
  },
  {
   "cell_type": "code",
   "execution_count": 7,
   "metadata": {
    "collapsed": true
   },
   "outputs": [],
   "source": [
    "\n",
    "input_identifiers = ['S1A_IW_GRDH_1SDV_20160115T045432_20160115T045457_009500_00DCA7_5B6E',\n",
    "                     'S1A_IW_GRDH_1SDV_20160713T045445_20160713T045508_012125_012C79_DD2B',\n",
    "                    'S1A_IW_GRDH_1SDV_20160713T045420_20160713T045445_012125_012C79_6F66']"
   ]
  },
  {
   "cell_type": "markdown",
   "metadata": {},
   "source": [
    "**Input references**"
   ]
  },
  {
   "cell_type": "code",
   "execution_count": 8,
   "metadata": {
    "collapsed": false,
    "slideshow": {
     "slide_type": "subslide"
    }
   },
   "outputs": [],
   "source": [
    "\n",
    "input_references = ['https://catalog.terradue.com/sentinel1/search?uid=S1A_IW_GRDH_1SDV_20160115T045432_20160115T045457_009500_00DCA7_5B6E',\n",
    "                    'https://catalog.terradue.com/sentinel1/search?uid=S1A_IW_GRDH_1SDV_20160713T045445_20160713T045508_012125_012C79_DD2B',\n",
    "                    'https://catalog.terradue.com/sentinel1/search?uid=S1A_IW_GRDH_1SDV_20160713T045420_20160713T045445_012125_012C79_6F66'\n",
    "                   ]"
   ]
  },
  {
   "cell_type": "markdown",
   "metadata": {
    "slideshow": {
     "slide_type": "slide"
    }
   },
   "source": [
    "**Data path**\n",
    "\n",
    "This path defines where the data is staged-in. "
   ]
  },
  {
   "cell_type": "code",
   "execution_count": 9,
   "metadata": {
    "collapsed": true
   },
   "outputs": [],
   "source": [
    "data_path = '/workspace/data'"
   ]
  },
  {
   "cell_type": "markdown",
   "metadata": {},
   "source": [
    "### Workflow"
   ]
  },
  {
   "cell_type": "markdown",
   "metadata": {},
   "source": [
    "#### Import the packages required for processing the data"
   ]
  },
  {
   "cell_type": "code",
   "execution_count": 10,
   "metadata": {
    "collapsed": true
   },
   "outputs": [],
   "source": [
    "import os\n",
    "import sys\n",
    "sys.path.append('/application/notebook/libexec/') \n",
    "sys.path.append(os.getcwd())\n",
    "\n",
    "from shapely.wkt import loads\n",
    "\n",
    "from helpers import *\n",
    "\n",
    "sys.path.append('/opt/OTB/lib/python')\n",
    "sys.path.append('/opt/OTB/lib/libfftw3.so.3')\n",
    "os.environ['OTB_APPLICATION_PATH'] = '/opt/OTB/lib/otb/applications'\n",
    "os.environ['LD_LIBRARY_PATH'] = '/opt/OTB/lib'\n",
    "os.environ['ITK_AUTOLOAD_PATH'] = '/opt/OTB/lib/otb/applications'\n",
    "import shutil\n",
    "\n",
    "import otbApplication\n",
    "\n",
    "%load_ext autoreload\n",
    "%autoreload 2"
   ]
  },
  {
   "cell_type": "code",
   "execution_count": 11,
   "metadata": {},
   "outputs": [],
   "source": [
    "products = get_metadata(input_references, data_path)"
   ]
  },
  {
   "cell_type": "code",
   "execution_count": 12,
   "metadata": {},
   "outputs": [
    {
     "data": {
      "text/html": [
       "<div>\n",
       "<style scoped>\n",
       "    .dataframe tbody tr th:only-of-type {\n",
       "        vertical-align: middle;\n",
       "    }\n",
       "\n",
       "    .dataframe tbody tr th {\n",
       "        vertical-align: top;\n",
       "    }\n",
       "\n",
       "    .dataframe thead th {\n",
       "        text-align: right;\n",
       "    }\n",
       "</style>\n",
       "<table border=\"1\" class=\"dataframe\">\n",
       "  <thead>\n",
       "    <tr style=\"text-align: right;\">\n",
       "      <th></th>\n",
       "      <th>enclosure</th>\n",
       "      <th>enddate</th>\n",
       "      <th>identifier</th>\n",
       "      <th>orbitDirection</th>\n",
       "      <th>orbitNumber</th>\n",
       "      <th>self</th>\n",
       "      <th>startdate</th>\n",
       "      <th>track</th>\n",
       "      <th>wkt</th>\n",
       "      <th>local_path</th>\n",
       "    </tr>\n",
       "  </thead>\n",
       "  <tbody>\n",
       "    <tr>\n",
       "      <th>0</th>\n",
       "      <td>https://store.terradue.com/download/sentinel1/...</td>\n",
       "      <td>2016-01-15T04:54:57.2800300Z</td>\n",
       "      <td>S1A_IW_GRDH_1SDV_20160115T045432_20160115T0454...</td>\n",
       "      <td>DESCENDING</td>\n",
       "      <td>9500</td>\n",
       "      <td>https://catalog.terradue.com/sentinel1/search?...</td>\n",
       "      <td>2016-01-15T04:54:32.5559030Z</td>\n",
       "      <td>153</td>\n",
       "      <td>POLYGON((14.841465 12.726125,12.565597 13.1665...</td>\n",
       "      <td>/workspace/data/S1A_IW_GRDH_1SDV_20160115T0454...</td>\n",
       "    </tr>\n",
       "    <tr>\n",
       "      <th>1</th>\n",
       "      <td>https://store.terradue.com/download/sentinel1/...</td>\n",
       "      <td>2016-07-13T04:55:08.1665240Z</td>\n",
       "      <td>S1A_IW_GRDH_1SDV_20160713T045445_20160713T0455...</td>\n",
       "      <td>DESCENDING</td>\n",
       "      <td>12125</td>\n",
       "      <td>https://catalog.terradue.com/sentinel1/search?...</td>\n",
       "      <td>2016-07-13T04:54:45.6624400Z</td>\n",
       "      <td>153</td>\n",
       "      <td>POLYGON((14.772918 12.391514,12.504184 12.8319...</td>\n",
       "      <td>/workspace/data/S1A_IW_GRDH_1SDV_20160713T0454...</td>\n",
       "    </tr>\n",
       "    <tr>\n",
       "      <th>2</th>\n",
       "      <td>https://store.terradue.com/download/sentinel1/...</td>\n",
       "      <td>2016-07-13T04:54:45.6609510Z</td>\n",
       "      <td>S1A_IW_GRDH_1SDV_20160713T045420_20160713T0454...</td>\n",
       "      <td>DESCENDING</td>\n",
       "      <td>12125</td>\n",
       "      <td>https://catalog.terradue.com/sentinel1/search?...</td>\n",
       "      <td>2016-07-13T04:54:20.6628650Z</td>\n",
       "      <td>153</td>\n",
       "      <td>POLYGON((15.052528 13.752576,12.770464 14.1897...</td>\n",
       "      <td>/workspace/data/S1A_IW_GRDH_1SDV_20160713T0454...</td>\n",
       "    </tr>\n",
       "  </tbody>\n",
       "</table>\n",
       "</div>"
      ],
      "text/plain": [
       "                                           enclosure  \\\n",
       "0  https://store.terradue.com/download/sentinel1/...   \n",
       "1  https://store.terradue.com/download/sentinel1/...   \n",
       "2  https://store.terradue.com/download/sentinel1/...   \n",
       "\n",
       "                        enddate  \\\n",
       "0  2016-01-15T04:54:57.2800300Z   \n",
       "1  2016-07-13T04:55:08.1665240Z   \n",
       "2  2016-07-13T04:54:45.6609510Z   \n",
       "\n",
       "                                          identifier orbitDirection  \\\n",
       "0  S1A_IW_GRDH_1SDV_20160115T045432_20160115T0454...     DESCENDING   \n",
       "1  S1A_IW_GRDH_1SDV_20160713T045445_20160713T0455...     DESCENDING   \n",
       "2  S1A_IW_GRDH_1SDV_20160713T045420_20160713T0454...     DESCENDING   \n",
       "\n",
       "  orbitNumber                                               self  \\\n",
       "0        9500  https://catalog.terradue.com/sentinel1/search?...   \n",
       "1       12125  https://catalog.terradue.com/sentinel1/search?...   \n",
       "2       12125  https://catalog.terradue.com/sentinel1/search?...   \n",
       "\n",
       "                      startdate track  \\\n",
       "0  2016-01-15T04:54:32.5559030Z   153   \n",
       "1  2016-07-13T04:54:45.6624400Z   153   \n",
       "2  2016-07-13T04:54:20.6628650Z   153   \n",
       "\n",
       "                                                 wkt  \\\n",
       "0  POLYGON((14.841465 12.726125,12.565597 13.1665...   \n",
       "1  POLYGON((14.772918 12.391514,12.504184 12.8319...   \n",
       "2  POLYGON((15.052528 13.752576,12.770464 14.1897...   \n",
       "\n",
       "                                          local_path  \n",
       "0  /workspace/data/S1A_IW_GRDH_1SDV_20160115T0454...  \n",
       "1  /workspace/data/S1A_IW_GRDH_1SDV_20160713T0454...  \n",
       "2  /workspace/data/S1A_IW_GRDH_1SDV_20160713T0454...  "
      ]
     },
     "execution_count": 12,
     "metadata": {},
     "output_type": "execute_result"
    }
   ],
   "source": [
    "products\n"
   ]
  },
  {
   "cell_type": "code",
   "execution_count": 17,
   "metadata": {},
   "outputs": [],
   "source": [
    "group_analysis(products)"
   ]
  },
  {
   "cell_type": "code",
   "execution_count": 18,
   "metadata": {},
   "outputs": [
    {
     "data": {
      "text/html": [
       "<div>\n",
       "<style scoped>\n",
       "    .dataframe tbody tr th:only-of-type {\n",
       "        vertical-align: middle;\n",
       "    }\n",
       "\n",
       "    .dataframe tbody tr th {\n",
       "        vertical-align: top;\n",
       "    }\n",
       "\n",
       "    .dataframe thead th {\n",
       "        text-align: right;\n",
       "    }\n",
       "</style>\n",
       "<table border=\"1\" class=\"dataframe\">\n",
       "  <thead>\n",
       "    <tr style=\"text-align: right;\">\n",
       "      <th></th>\n",
       "      <th>enclosure</th>\n",
       "      <th>enddate</th>\n",
       "      <th>identifier</th>\n",
       "      <th>orbitDirection</th>\n",
       "      <th>orbitNumber</th>\n",
       "      <th>self</th>\n",
       "      <th>startdate</th>\n",
       "      <th>track</th>\n",
       "      <th>wkt</th>\n",
       "      <th>local_path</th>\n",
       "      <th>ordinal_type</th>\n",
       "    </tr>\n",
       "  </thead>\n",
       "  <tbody>\n",
       "    <tr>\n",
       "      <th>0</th>\n",
       "      <td>https://store.terradue.com/download/sentinel1/...</td>\n",
       "      <td>2016-01-15T04:54:57.2800300Z</td>\n",
       "      <td>S1A_IW_GRDH_1SDV_20160115T045432_20160115T0454...</td>\n",
       "      <td>DESCENDING</td>\n",
       "      <td>9500</td>\n",
       "      <td>https://catalog.terradue.com/sentinel1/search?...</td>\n",
       "      <td>2016-01-15T04:54:32.5559030Z</td>\n",
       "      <td>153</td>\n",
       "      <td>POLYGON((14.841465 12.726125,12.565597 13.1665...</td>\n",
       "      <td>/workspace/data/S1A_IW_GRDH_1SDV_20160115T0454...</td>\n",
       "      <td>slave</td>\n",
       "    </tr>\n",
       "    <tr>\n",
       "      <th>1</th>\n",
       "      <td>https://store.terradue.com/download/sentinel1/...</td>\n",
       "      <td>2016-07-13T04:55:08.1665240Z</td>\n",
       "      <td>S1A_IW_GRDH_1SDV_20160713T045445_20160713T0455...</td>\n",
       "      <td>DESCENDING</td>\n",
       "      <td>12125</td>\n",
       "      <td>https://catalog.terradue.com/sentinel1/search?...</td>\n",
       "      <td>2016-07-13T04:54:45.6624400Z</td>\n",
       "      <td>153</td>\n",
       "      <td>POLYGON((14.772918 12.391514,12.504184 12.8319...</td>\n",
       "      <td>/workspace/data/S1A_IW_GRDH_1SDV_20160713T0454...</td>\n",
       "      <td>master</td>\n",
       "    </tr>\n",
       "    <tr>\n",
       "      <th>2</th>\n",
       "      <td>https://store.terradue.com/download/sentinel1/...</td>\n",
       "      <td>2016-07-13T04:54:45.6609510Z</td>\n",
       "      <td>S1A_IW_GRDH_1SDV_20160713T045420_20160713T0454...</td>\n",
       "      <td>DESCENDING</td>\n",
       "      <td>12125</td>\n",
       "      <td>https://catalog.terradue.com/sentinel1/search?...</td>\n",
       "      <td>2016-07-13T04:54:20.6628650Z</td>\n",
       "      <td>153</td>\n",
       "      <td>POLYGON((15.052528 13.752576,12.770464 14.1897...</td>\n",
       "      <td>/workspace/data/S1A_IW_GRDH_1SDV_20160713T0454...</td>\n",
       "      <td>master</td>\n",
       "    </tr>\n",
       "  </tbody>\n",
       "</table>\n",
       "</div>"
      ],
      "text/plain": [
       "                                           enclosure  \\\n",
       "0  https://store.terradue.com/download/sentinel1/...   \n",
       "1  https://store.terradue.com/download/sentinel1/...   \n",
       "2  https://store.terradue.com/download/sentinel1/...   \n",
       "\n",
       "                        enddate  \\\n",
       "0  2016-01-15T04:54:57.2800300Z   \n",
       "1  2016-07-13T04:55:08.1665240Z   \n",
       "2  2016-07-13T04:54:45.6609510Z   \n",
       "\n",
       "                                          identifier orbitDirection  \\\n",
       "0  S1A_IW_GRDH_1SDV_20160115T045432_20160115T0454...     DESCENDING   \n",
       "1  S1A_IW_GRDH_1SDV_20160713T045445_20160713T0455...     DESCENDING   \n",
       "2  S1A_IW_GRDH_1SDV_20160713T045420_20160713T0454...     DESCENDING   \n",
       "\n",
       "  orbitNumber                                               self  \\\n",
       "0        9500  https://catalog.terradue.com/sentinel1/search?...   \n",
       "1       12125  https://catalog.terradue.com/sentinel1/search?...   \n",
       "2       12125  https://catalog.terradue.com/sentinel1/search?...   \n",
       "\n",
       "                      startdate track  \\\n",
       "0  2016-01-15T04:54:32.5559030Z   153   \n",
       "1  2016-07-13T04:54:45.6624400Z   153   \n",
       "2  2016-07-13T04:54:20.6628650Z   153   \n",
       "\n",
       "                                                 wkt  \\\n",
       "0  POLYGON((14.841465 12.726125,12.565597 13.1665...   \n",
       "1  POLYGON((14.772918 12.391514,12.504184 12.8319...   \n",
       "2  POLYGON((15.052528 13.752576,12.770464 14.1897...   \n",
       "\n",
       "                                          local_path ordinal_type  \n",
       "0  /workspace/data/S1A_IW_GRDH_1SDV_20160115T0454...        slave  \n",
       "1  /workspace/data/S1A_IW_GRDH_1SDV_20160713T0454...       master  \n",
       "2  /workspace/data/S1A_IW_GRDH_1SDV_20160713T0454...       master  "
      ]
     },
     "execution_count": 18,
     "metadata": {},
     "output_type": "execute_result"
    }
   ],
   "source": [
    "products"
   ]
  },
  {
   "cell_type": "code",
   "execution_count": 20,
   "metadata": {},
   "outputs": [],
   "source": [
    "if products['orbitDirection'].nunique() != 1:\n",
    "    raise ValueError('Orbit Directions mismatch!')\n",
    "elif products[products['ordinal_type']=='master']['track'].nunique() != 1:\n",
    "    raise ValueError('Masters Track number mismatch!')\n",
    "elif products[products['ordinal_type']=='slave']['track'].nunique() != 1:\n",
    "    raise ValueError('Slaves Track number mismatch!')\n",
    "    "
   ]
  },
  {
   "cell_type": "code",
   "execution_count": null,
   "metadata": {},
   "outputs": [],
   "source": [
    "bbox_to_wkt(aoi['value'])"
   ]
  },
  {
   "cell_type": "code",
   "execution_count": null,
   "metadata": {},
   "outputs": [],
   "source": [
    "\n",
    "preprocessed_prodx=pre_process(products=products,\n",
    "                 aoi=bbox_to_wkt(aoi['value']),\n",
    "                 utm_zone=epsg_code['value'],\n",
    "                 resolution=resolution['value'],\n",
    "                 polarization=polarization['value'], \n",
    "                 orbit_type=orbit_type['value'],\n",
    "                 show_graph=True)\n"
   ]
  },
  {
   "cell_type": "code",
   "execution_count": null,
   "metadata": {},
   "outputs": [],
   "source": [
    "preprocessed_prodx"
   ]
  },
  {
   "cell_type": "markdown",
   "metadata": {},
   "source": [
    "#### Create the stack with the master and slave"
   ]
  },
  {
   "cell_type": "code",
   "execution_count": null,
   "metadata": {},
   "outputs": [],
   "source": [
    "create_stack(preprocessed_prodx)"
   ]
  },
  {
   "cell_type": "code",
   "execution_count": null,
   "metadata": {},
   "outputs": [],
   "source": [
    "stack_bands = list_bands('stack.dim')"
   ]
  },
  {
   "cell_type": "code",
   "execution_count": null,
   "metadata": {},
   "outputs": [],
   "source": [
    "stack_bands"
   ]
  },
  {
   "cell_type": "markdown",
   "metadata": {},
   "source": [
    "#### Change detection"
   ]
  },
  {
   "cell_type": "code",
   "execution_count": null,
   "metadata": {},
   "outputs": [],
   "source": [
    "change_detection_expression = '({0} &gt; 0.0001) &amp;&amp; ({1} &gt; 0.0001) &amp;&amp; (abs(log10({0} / {1})) &gt; 1) &amp;&amp; ({0} &gt; 0.05 || {1} &gt; 0.05)'.format(stack_bands[0], stack_bands[1])"
   ]
  },
  {
   "cell_type": "code",
   "execution_count": null,
   "metadata": {},
   "outputs": [],
   "source": [
    "change_detection_expression"
   ]
  },
  {
   "cell_type": "code",
   "execution_count": null,
   "metadata": {},
   "outputs": [],
   "source": [
    "change_detection('stack.dim', 'raw_change_detection.tif', change_detection_expression)"
   ]
  },
  {
   "cell_type": "markdown",
   "metadata": {},
   "source": [
    "#### Linear to dB"
   ]
  },
  {
   "cell_type": "code",
   "execution_count": null,
   "metadata": {},
   "outputs": [],
   "source": [
    "[convert_dim('{}.dim'.format(n)) for n in preprocessed_prodx]"
   ]
  },
  {
   "cell_type": "markdown",
   "metadata": {},
   "source": [
    "#### Match the intensities to the dimension of the change detection GeoTIFF\n",
    "\n",
    "Fit the geometries of the master/slave intensities in dB GeoTIFFs to the change_detection GeoTIFF geometry "
   ]
  },
  {
   "cell_type": "code",
   "execution_count": null,
   "metadata": {},
   "outputs": [],
   "source": [
    "import otbApplication\n",
    "\n",
    "for index in range(2):\n",
    "    \n",
    "    Superimpose = otbApplication.Registry.CreateApplication(\"Superimpose\")\n",
    "\n",
    "\n",
    "    Superimpose.SetParameterString('inr', 'raw_change_detection.tif')\n",
    "    Superimpose.SetParameterString('inm', ['{}_db.tif'.format(n) for n in preprocessed_prodx][index])\n",
    "    Superimpose.SetParameterString('out', ['{}_db_si.tif'.format(n) for n in preprocessed_prodx][index])\n",
    "\n",
    "    Superimpose.ExecuteAndWriteOutput()\n",
    "    "
   ]
  },
  {
   "cell_type": "code",
   "execution_count": null,
   "metadata": {},
   "outputs": [],
   "source": [
    "['{}_db_si.tif'.format(n) for n in preprocessed_prodx]"
   ]
  },
  {
   "cell_type": "markdown",
   "metadata": {},
   "source": [
    "#### RGB with intensities\n",
    "\n",
    "Master/slave intensities in dB in red and blue channels. "
   ]
  },
  {
   "cell_type": "code",
   "execution_count": null,
   "metadata": {},
   "outputs": [],
   "source": [
    "r_channel = 'im1b1'\n",
    "g_channel = '0'\n",
    "b_channel = 'im2b1'\n",
    "\n",
    "band_expressions = [r_channel, \n",
    "                    g_channel, \n",
    "                    b_channel]"
   ]
  },
  {
   "cell_type": "code",
   "execution_count": null,
   "metadata": {},
   "outputs": [],
   "source": [
    "create_composite(['{}_db_si.tif'.format(n) for n in preprocessed_prodx],\n",
    "                 'temp_red_blue_{}.tif'.format('rgb'), \n",
    "                 band_expressions)\n",
    "    "
   ]
  },
  {
   "cell_type": "markdown",
   "metadata": {},
   "source": [
    "#### RGB with intensities and change detection map\n",
    "\n",
    "Prepare the base RGB composite for adding a next step with the change detection in red\n",
    "\n",
    "* red channel: master\n",
    "* green channel: master\n",
    "* blue channel: slave"
   ]
  },
  {
   "cell_type": "code",
   "execution_count": null,
   "metadata": {},
   "outputs": [],
   "source": [
    "r_channel = 'im1b1'\n",
    "g_channel = 'im1b1'\n",
    "b_channel = 'im2b1'\n",
    "\n",
    "band_expressions = [r_channel, \n",
    "                    g_channel, \n",
    "                    b_channel]"
   ]
  },
  {
   "cell_type": "code",
   "execution_count": null,
   "metadata": {},
   "outputs": [],
   "source": [
    "create_composite(['{}_db_si.tif'.format(n) for n in preprocessed_prodx],\n",
    "                 'temp_red_green_blue_{}.tif'.format('rgb'), \n",
    "                 band_expressions)"
   ]
  },
  {
   "cell_type": "markdown",
   "metadata": {},
   "source": [
    "Convert the change detection to byte, change detection values will become 255\n"
   ]
  },
  {
   "cell_type": "code",
   "execution_count": null,
   "metadata": {},
   "outputs": [],
   "source": [
    "Convert = otbApplication.Registry.CreateApplication('Convert')\n",
    "\n",
    "Convert.SetParameterString('in', 'raw_change_detection.tif')\n",
    "Convert.SetParameterString('out','raw_change_detection_byte.tif')\n",
    "Convert.SetParameterString('type', 'linear')\n",
    "Convert.SetParameterString('channels', 'grayscale')\n",
    "Convert.SetParameterInt('channels.grayscale.channel', 1)\n",
    "\n",
    "Convert.ExecuteAndWriteOutput()\n"
   ]
  },
  {
   "cell_type": "markdown",
   "metadata": {},
   "source": [
    "Create the final RGB replacing the values in the red channel with 255 where there's a change"
   ]
  },
  {
   "cell_type": "code",
   "execution_count": null,
   "metadata": {},
   "outputs": [],
   "source": [
    "r_channel = 'im1b1 == 255 ? im1b1 : im2b1'\n",
    "g_channel = 'im1b1 == 255 ? 0 : im2b2'\n",
    "b_channel = 'im1b1 == 255 ? 0 : im2b3'\n",
    "\n",
    "band_expressions = [r_channel, \n",
    "                    g_channel, \n",
    "                    b_channel]\n",
    "\n",
    "\n",
    "BandMathX = otbApplication.Registry.CreateApplication(\"BandMathX\")\n",
    "\n",
    "BandMathX.SetParameterStringList('il', ['raw_change_detection_byte.tif', 'temp_red_green_blue_{}.tif'.format('rgb')])\n",
    "\n",
    "BandMathX.SetParameterString('out', 'rgb_composite_intensity_cd.tif')\n",
    "BandMathX.SetParameterOutputImagePixelType('out', otbApplication.ImagePixelType_uint8)\n",
    "BandMathX.SetParameterString('exp', ';'.join(band_expressions))\n",
    "\n",
    "BandMathX.ExecuteAndWriteOutput()"
   ]
  },
  {
   "cell_type": "markdown",
   "metadata": {},
   "source": [
    "#### Vectorization"
   ]
  },
  {
   "cell_type": "code",
   "execution_count": null,
   "metadata": {},
   "outputs": [],
   "source": [
    "change_detection_gp = polygonize('raw_change_detection_byte.tif', 1, epsg_code['value'])"
   ]
  },
  {
   "cell_type": "code",
   "execution_count": null,
   "metadata": {},
   "outputs": [],
   "source": [
    "change_detection_gp.head(5)"
   ]
  },
  {
   "cell_type": "markdown",
   "metadata": {},
   "source": [
    "Create a meaningful output name for the results"
   ]
  },
  {
   "cell_type": "code",
   "execution_count": null,
   "metadata": {},
   "outputs": [],
   "source": [
    "products['startdate'] = pd.to_datetime(products['startdate'])\n",
    "products['enddate'] = pd.to_datetime(products['enddate'])\n",
    "\n",
    "output_startdate = min(products['startdate'])\n",
    "output_stopdate = max(products['enddate'])\n",
    "\n",
    "date_format = '%Y%m%dT%H%M%S'\n",
    "\n",
    "\n",
    "output_name = 'CHANGE-DETECTION-{0}-{1}'.format(output_startdate.strftime(date_format), \n",
    "                                                 output_stopdate.strftime(date_format))"
   ]
  },
  {
   "cell_type": "code",
   "execution_count": null,
   "metadata": {},
   "outputs": [],
   "source": [
    "output_name"
   ]
  },
  {
   "cell_type": "code",
   "execution_count": null,
   "metadata": {},
   "outputs": [],
   "source": [
    "change_detection_gp['area'] = change_detection_gp.apply(lambda row: row.geometry.area, axis=1)"
   ]
  },
  {
   "cell_type": "code",
   "execution_count": null,
   "metadata": {},
   "outputs": [],
   "source": [
    "change_detection_gp[(change_detection_gp.change_detection == 255)].to_file('{}.geojson'.format(output_name), driver='GeoJSON')\n",
    "change_detection_gp[(change_detection_gp.change_detection == 255)].to_file('{}.shp'.format(output_name))"
   ]
  },
  {
   "cell_type": "markdown",
   "metadata": {},
   "source": [
    "#### Cloud optimized GeoTIFF"
   ]
  },
  {
   "cell_type": "code",
   "execution_count": null,
   "metadata": {},
   "outputs": [],
   "source": [
    "output_name"
   ]
  },
  {
   "cell_type": "code",
   "execution_count": null,
   "metadata": {},
   "outputs": [],
   "source": [
    "# red and blue intensities\n",
    "cog('temp_red_blue_{}.tif'.format('rgb'), '{}-COMPOSITE-RED-BLUE.rgb.tif'.format(output_name))"
   ]
  },
  {
   "cell_type": "code",
   "execution_count": null,
   "metadata": {},
   "outputs": [],
   "source": [
    "# RGB with change detection\n",
    "cog('rgb_composite_intensity_cd.tif', '{}-COMPOSITE-CHANGE.rgb.tif'.format(output_name))"
   ]
  },
  {
   "cell_type": "code",
   "execution_count": null,
   "metadata": {},
   "outputs": [],
   "source": [
    "out_base = '{}-COMPOSITE-CHANGE.rgb.tif'.format(output_name)[0:-8]\n",
    "out_mask = out_base +'_mask'\n",
    "out_rbb = out_base +'_acd'"
   ]
  },
  {
   "cell_type": "markdown",
   "metadata": {},
   "source": [
    "#### Create the  GeoTiff product with the Mask of changes (0-1 values) "
   ]
  },
  {
   "cell_type": "code",
   "execution_count": null,
   "metadata": {},
   "outputs": [],
   "source": [
    "create_mask('{}-COMPOSITE-CHANGE.rgb.tif'.format(output_name), '{}.tif'.format(out_mask))"
   ]
  },
  {
   "cell_type": "markdown",
   "metadata": {},
   "source": [
    "#### Create the RGB composite with the intensities as RED=Older_image, GREEN=Newer_image, BLUE=Newer_image"
   ]
  },
  {
   "cell_type": "code",
   "execution_count": null,
   "metadata": {},
   "outputs": [],
   "source": [
    "create_rbb('{}-COMPOSITE-RED-BLUE.rgb.tif'.format(output_name), '{}.tif'.format(out_rbb))"
   ]
  },
  {
   "cell_type": "code",
   "execution_count": null,
   "metadata": {},
   "outputs": [],
   "source": [
    "for index, properties_file in enumerate(['result', \n",
    "                                         'stage-in',\n",
    "                                         '{}-COMPOSITE-RED-BLUE.rgb'.format(output_name),\n",
    "                                         '{}-COMPOSITE-CHANGE.rgb'.format(output_name),\n",
    "                                          out_mask, \n",
    "                                          out_rbb]):\n",
    "\n",
    "    date_format = '%Y-%m-%dT%H:%M:%SZ'\n",
    "    \n",
    "    if properties_file == 'result':\n",
    "        \n",
    "        title = 'Reproducibility notebook used for generating {0}'.format(output_name)\n",
    "   \n",
    "    elif properties_file == 'stage-in':\n",
    "\n",
    "        title = 'Reproducibility stage-in notebook for Sentinel-1 data for generating {0}'.format(output_name)\n",
    "        \n",
    "    elif properties_file == out_mask:\n",
    "        \n",
    "        title = 'Mask of changes for {0} to {1}'.format(output_startdate.strftime(date_format),\n",
    "                                                                  output_stopdate.strftime(date_format))\n",
    "        \n",
    "    elif properties_file == out_rbb:\n",
    "        \n",
    "        title = 'RGB composite for {0} to {1}'.format(output_startdate.strftime(date_format),\n",
    "                                                                  output_stopdate.strftime(date_format))\n",
    "    \n",
    "    else:\n",
    "      \n",
    "        title = 'Change detection for {0} to {1}'.format(output_startdate.strftime(date_format),\n",
    "                                                                  output_stopdate.strftime(date_format))\n",
    "    \n",
    "    with open(properties_file + '.properties', 'wb') as file:\n",
    "        file.write('title={0}\\n'.format(title))\n",
    "        file.write('date={0}/{1}\\n'.format(output_startdate.strftime(date_format),\n",
    "                                           output_stopdate.strftime(date_format)))\n",
    "        \n",
    "        if index > 1:\n",
    "            file.write('geometry={0}'.format(get_image_wkt(properties_file + '.tif')))"
   ]
  },
  {
   "cell_type": "code",
   "execution_count": null,
   "metadata": {},
   "outputs": [],
   "source": [
    "os.remove('raw_change_detection_byte.tif')\n",
    "os.remove('raw_change_detection.tif')\n",
    "os.remove('temp_red_green_blue_rgb.tif')"
   ]
  },
  {
   "cell_type": "code",
   "execution_count": null,
   "metadata": {},
   "outputs": [],
   "source": [
    "for index in range(2):\n",
    "    #os.remove(['{}.tif'.format(n) for n in products.identifier.values][index])\n",
    "    os.remove(['{}_db.tif'.format(n) for n in preprocessed_prodx][index])\n",
    "    os.remove(['{}_db_si.tif'.format(n) for n in preprocessed_prodx][index])\n",
    "    os.remove(['{}.dim'.format(n) for n in preprocessed_prodx][index])\n",
    "    shutil.rmtree(['{}.data'.format(n) for n in preprocessed_prodx][index])"
   ]
  },
  {
   "cell_type": "code",
   "execution_count": null,
   "metadata": {},
   "outputs": [],
   "source": [
    "shutil.rmtree('stack.data')\n",
    "os.remove('stack.dim')"
   ]
  },
  {
   "cell_type": "markdown",
   "metadata": {
    "slideshow": {
     "slide_type": "slide"
    }
   },
   "source": [
    "### License"
   ]
  },
  {
   "cell_type": "markdown",
   "metadata": {
    "slideshow": {
     "slide_type": "subslide"
    }
   },
   "source": [
    "This work is licenced under a [Attribution-ShareAlike 4.0 International License (CC BY-SA 4.0)](http://creativecommons.org/licenses/by-sa/4.0/) \n",
    "\n",
    "YOU ARE FREE TO:\n",
    "\n",
    "* Share - copy and redistribute the material in any medium or format.\n",
    "* Adapt - remix, transform, and built upon the material for any purpose, even commercially.\n",
    "\n",
    "UNDER THE FOLLOWING TERMS:\n",
    "\n",
    "* Attribution - You must give appropriate credit, provide a link to the license, and indicate if changes were made. You may do so in any reasonable manner, but not in any way that suggests the licensor endorses you or your use.\n",
    "* ShareAlike - If you remix, transform, or build upon the material, you must distribute your contributions under the same license as the original."
   ]
  },
  {
   "cell_type": "code",
   "execution_count": null,
   "metadata": {},
   "outputs": [],
   "source": []
  }
 ],
 "metadata": {
  "kernelspec": {
   "display_name": "Python 2",
   "language": "python",
   "name": "python2"
  },
  "language_info": {
   "codemirror_mode": {
    "name": "ipython",
    "version": 2
   },
   "file_extension": ".py",
   "mimetype": "text/x-python",
   "name": "python",
   "nbconvert_exporter": "python",
   "pygments_lexer": "ipython2",
   "version": "2.7.12"
  }
 },
 "nbformat": 4,
 "nbformat_minor": 2
}
